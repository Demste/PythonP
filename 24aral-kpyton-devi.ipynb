{
 "cells": [
  {
   "cell_type": "code",
   "execution_count": 1,
   "id": "38436a91",
   "metadata": {
    "execution": {
     "iopub.execute_input": "2023-12-24T11:30:55.608579Z",
     "iopub.status.busy": "2023-12-24T11:30:55.608261Z",
     "iopub.status.idle": "2023-12-24T11:30:55.612081Z",
     "shell.execute_reply": "2023-12-24T11:30:55.611340Z"
    },
    "papermill": {
     "duration": 0.013127,
     "end_time": "2023-12-24T11:30:55.613798",
     "exception": false,
     "start_time": "2023-12-24T11:30:55.600671",
     "status": "completed"
    },
    "tags": []
   },
   "outputs": [],
   "source": [
    "#1. Uyarıları kapatınız\n",
    "\n",
    "\n"
   ]
  },
  {
   "cell_type": "code",
   "execution_count": 2,
   "id": "6b36a96f",
   "metadata": {
    "execution": {
     "iopub.execute_input": "2023-12-24T11:30:55.625648Z",
     "iopub.status.busy": "2023-12-24T11:30:55.625381Z",
     "iopub.status.idle": "2023-12-24T11:30:55.635864Z",
     "shell.execute_reply": "2023-12-24T11:30:55.635250Z"
    },
    "papermill": {
     "duration": 0.018164,
     "end_time": "2023-12-24T11:30:55.637487",
     "exception": false,
     "start_time": "2023-12-24T11:30:55.619323",
     "status": "completed"
    },
    "tags": []
   },
   "outputs": [
    {
     "name": "stdout",
     "output_type": "stream",
     "text": [
      "[[16 17]\n",
      " [ 1 10]\n",
      " [ 5  6]\n",
      " [ 4 13]\n",
      " [14 13]\n",
      " [ 1  1]\n",
      " [18  6]\n",
      " [ 2 10]\n",
      " [ 3  9]\n",
      " [16 12]]\n"
     ]
    }
   ],
   "source": [
    "#2.   0 ile 20 arasında rasgele sayılar alan 10 satır ve 2 sutundan oluşan bir \n",
    "# matris oluşturun\n",
    "\n",
    "import numpy as np\n",
    "   \n",
    "array = np.random.randint(21, size=(10, 2))\n",
    "\n",
    "#sayıları sınırlandırma kodu 5 ile 30 arasında sınırlandır\n",
    "#array = np.clip(array, 5, 30)\n",
    "print(array)\n"
   ]
  },
  {
   "cell_type": "code",
   "execution_count": 3,
   "id": "d436972b",
   "metadata": {
    "execution": {
     "iopub.execute_input": "2023-12-24T11:30:55.649582Z",
     "iopub.status.busy": "2023-12-24T11:30:55.648948Z",
     "iopub.status.idle": "2023-12-24T11:30:55.655351Z",
     "shell.execute_reply": "2023-12-24T11:30:55.654732Z"
    },
    "papermill": {
     "duration": 0.014155,
     "end_time": "2023-12-24T11:30:55.656895",
     "exception": false,
     "start_time": "2023-12-24T11:30:55.642740",
     "status": "completed"
    },
    "tags": []
   },
   "outputs": [
    {
     "name": "stdout",
     "output_type": "stream",
     "text": [
      "[[ 0  1  2  3  4  5]\n",
      " [ 6  7  8  9 10 11]\n",
      " [12 13 14 15 16 17]\n",
      " [18 19 20 21 22 23]\n",
      " [24 25 26 27 28 29]]\n",
      "Matris a:\n",
      "[[ 0  1]\n",
      " [ 6  7]\n",
      " [12 13]\n",
      " [18 19]\n",
      " [24 25]]\n",
      "\n",
      "Matris b:\n",
      "[[ 2  3]\n",
      " [ 8  9]\n",
      " [14 15]\n",
      " [20 21]\n",
      " [26 27]]\n",
      "\n",
      "Matris c:\n",
      "[[ 4  5]\n",
      " [10 11]\n",
      " [16 17]\n",
      " [22 23]\n",
      " [28 29]]\n"
     ]
    }
   ],
   "source": [
    "#3.  Aşağıdaki komut sonrası oluşturulan ikiboyutlu matrisi 2 ve 4 nolu \n",
    "# sutunlardan ayrıştırarak 3 adet a, b ve c martislerine dönüştürün. \n",
    "import numpy as np\n",
    "m = np.arange(30).reshape(5,6)\n",
    "print(m)\n",
    "a = m[:,:2].reshape(-1, 2)\n",
    "b = m[:, 2:4].reshape(-1,2)\n",
    "c = m[:,4:6].reshape(-1,2)\n",
    "\n",
    "print(\"Matris a:\")\n",
    "print(a)\n",
    "\n",
    "print(\"\\nMatris b:\")\n",
    "print(b)\n",
    "\n",
    "print(\"\\nMatris c:\")\n",
    "print(c)\n"
   ]
  },
  {
   "cell_type": "code",
   "execution_count": 4,
   "id": "eedd643d",
   "metadata": {
    "execution": {
     "iopub.execute_input": "2023-12-24T11:30:55.668664Z",
     "iopub.status.busy": "2023-12-24T11:30:55.668095Z",
     "iopub.status.idle": "2023-12-24T11:30:55.673945Z",
     "shell.execute_reply": "2023-12-24T11:30:55.673089Z"
    },
    "papermill": {
     "duration": 0.013461,
     "end_time": "2023-12-24T11:30:55.675616",
     "exception": false,
     "start_time": "2023-12-24T11:30:55.662155",
     "status": "completed"
    },
    "tags": []
   },
   "outputs": [
    {
     "name": "stdout",
     "output_type": "stream",
     "text": [
      "[[ 0  1  2  3  4  5]\n",
      " [ 6  7  8  9 10 11]\n",
      " [12 13 14 15 16 17]\n",
      " [18 19 20 21 22 23]\n",
      " [24 25 26 27 28 29]]\n",
      "\n",
      "\n",
      "[[ 0  1  2  3  4  5]\n",
      " [ 6  7  8  9 10 11]]\n",
      "\n",
      "\n",
      "[[12 13 14 15 16 17]\n",
      " [18 19 20 21 22 23]\n",
      " [24 25 26 27 28 29]]\n"
     ]
    }
   ],
   "source": [
    "#4.   Aşağıdaki komut sonrası oluşturulan ikiboyutlu matrisi 3 nolu satırdan \n",
    "# ayrıştırarak 2 adet a ve b martislerine dönüştürün\n",
    "import numpy as np\n",
    "m = np.arange(30).reshape(5,6)\n",
    "import numpy as np\n",
    "m = np.arange(30).reshape(5,6)\n",
    "print(m)\n",
    "a= m[0:2,:].reshape(2,-1)\n",
    "print(\"\\n\")\n",
    "print(a)\n",
    "b = m[2:,:].reshape(3,-1)\n",
    "print(\"\\n\")\n",
    "print(b)\n",
    "\n"
   ]
  },
  {
   "cell_type": "code",
   "execution_count": 5,
   "id": "4f9197f2",
   "metadata": {
    "execution": {
     "iopub.execute_input": "2023-12-24T11:30:55.687204Z",
     "iopub.status.busy": "2023-12-24T11:30:55.686987Z",
     "iopub.status.idle": "2023-12-24T11:30:56.316662Z",
     "shell.execute_reply": "2023-12-24T11:30:56.315089Z"
    },
    "papermill": {
     "duration": 0.638546,
     "end_time": "2023-12-24T11:30:56.319496",
     "exception": false,
     "start_time": "2023-12-24T11:30:55.680950",
     "status": "completed"
    },
    "tags": []
   },
   "outputs": [
    {
     "name": "stdout",
     "output_type": "stream",
     "text": [
      "[[ 4 19]\n",
      " [ 5 18]\n",
      " [ 2 18]\n",
      " [10  8]\n",
      " [12  1]\n",
      " [18 16]\n",
      " [17 11]\n",
      " [18  8]\n",
      " [11 14]\n",
      " [18 13]]\n",
      "   sutun1  sutun2\n",
      "0       4      19\n",
      "1       5      18\n",
      "2       2      18\n",
      "3      10       8\n",
      "4      12       1\n",
      "5      18      16\n",
      "6      17      11\n",
      "7      18       8\n",
      "8      11      14\n",
      "9      18      13\n"
     ]
    }
   ],
   "source": [
    "#5.  Aşağıdaki komutlar sonrası oluşturulan a matrisini colon adları “sutun1”,\n",
    "#  ”sutun2” olan dataframe'e dönüştürün.\n",
    "import numpy as np\n",
    "import pandas as pd\n",
    "\n",
    "a=np.random.randint(0,20,(10,2))\n",
    "\n",
    "a=np.random.randint(0,20,(10,2))\n",
    "print(a)\n",
    "\n",
    "x=pd.DataFrame(data=a,index=range(10),columns=[\"sutun1\",\"sutun2\"])\n",
    "print(x)\n",
    "\n",
    "\n",
    "\n"
   ]
  },
  {
   "cell_type": "code",
   "execution_count": 6,
   "id": "b3bac2d2",
   "metadata": {
    "execution": {
     "iopub.execute_input": "2023-12-24T11:30:56.331997Z",
     "iopub.status.busy": "2023-12-24T11:30:56.331633Z",
     "iopub.status.idle": "2023-12-24T11:30:56.339074Z",
     "shell.execute_reply": "2023-12-24T11:30:56.338149Z"
    },
    "papermill": {
     "duration": 0.016107,
     "end_time": "2023-12-24T11:30:56.341325",
     "exception": false,
     "start_time": "2023-12-24T11:30:56.325218",
     "status": "completed"
    },
    "tags": []
   },
   "outputs": [
    {
     "name": "stdout",
     "output_type": "stream",
     "text": [
      "     sutun1  sutun2\n",
      "i1        4      19\n",
      "i2        5      18\n",
      "i3        2      18\n",
      "i4       10       8\n",
      "i5       12       1\n",
      "i6       18      16\n",
      "i7       17      11\n",
      "i8       18       8\n",
      "i9       11      14\n",
      "i10      18      13\n"
     ]
    }
   ],
   "source": [
    "#6. Önceki soruda oluşturulan dataframe’in index’lerini “i1”,”i2”,...,”i10” \n",
    "# olarak değiştiriniz\n",
    "import pandas as pd\n",
    "import numpy as np\n",
    "x=pd.DataFrame(data=a,index=range(1,11),columns=[\"sutun1\",\"sutun2\"])\n",
    "x.index=(f\"i{index}\" for index in range(1,11))\n",
    "print(x)\n",
    "\n"
   ]
  },
  {
   "cell_type": "code",
   "execution_count": 7,
   "id": "2ae9a41a",
   "metadata": {
    "execution": {
     "iopub.execute_input": "2023-12-24T11:30:56.353202Z",
     "iopub.status.busy": "2023-12-24T11:30:56.352985Z",
     "iopub.status.idle": "2023-12-24T11:30:56.358275Z",
     "shell.execute_reply": "2023-12-24T11:30:56.357105Z"
    },
    "papermill": {
     "duration": 0.013029,
     "end_time": "2023-12-24T11:30:56.359856",
     "exception": false,
     "start_time": "2023-12-24T11:30:56.346827",
     "status": "completed"
    },
    "tags": []
   },
   "outputs": [
    {
     "name": "stdout",
     "output_type": "stream",
     "text": [
      "{'A': {'D': [1, 2]}, 'B': {'E': [3, 100, 5]}, 'C': ['F', 6]}\n"
     ]
    }
   ],
   "source": [
    "#7. Aşağıdaki sözlük yapısındaki 99 değerini 100 olarak değiştirmek için \n",
    "# komutu yazınız. \n",
    "sozluk = {\"A\" : {\"D\":[1,2]},  \"B\" : {\"E\": [3,99,5]},  \"C\" : [\"F\",6]}\n",
    "\n",
    "sozluk[\"B\"][\"E\"][1] = 100\n",
    "print(sozluk)\n"
   ]
  },
  {
   "cell_type": "code",
   "execution_count": 8,
   "id": "f726c72f",
   "metadata": {
    "execution": {
     "iopub.execute_input": "2023-12-24T11:30:56.372150Z",
     "iopub.status.busy": "2023-12-24T11:30:56.371765Z",
     "iopub.status.idle": "2023-12-24T11:30:56.376707Z",
     "shell.execute_reply": "2023-12-24T11:30:56.375742Z"
    },
    "papermill": {
     "duration": 0.012674,
     "end_time": "2023-12-24T11:30:56.378218",
     "exception": false,
     "start_time": "2023-12-24T11:30:56.365544",
     "status": "completed"
    },
    "tags": []
   },
   "outputs": [
    {
     "name": "stdout",
     "output_type": "stream",
     "text": [
      "[[ 1  2]\n",
      " [ 3  4]\n",
      " [ 5  6]\n",
      " [ 7  8]\n",
      " [ 9 10]]\n"
     ]
    }
   ],
   "source": [
    "#8. 1 ile 10 dahil ardışık tam sayılardan oluşan bir numpy dizisi oluşturun \n",
    "# ve bu diziyi 5 satır ve 2 sutundan oluşan bir matrise dönüştürün. \n",
    "import numpy as np\n",
    "m = np.arange(1,11).reshape(5,2)\n",
    "print(m)\n",
    "\n",
    "\n",
    "\n"
   ]
  },
  {
   "cell_type": "code",
   "execution_count": 9,
   "id": "5562343c",
   "metadata": {
    "execution": {
     "iopub.execute_input": "2023-12-24T11:30:56.390580Z",
     "iopub.status.busy": "2023-12-24T11:30:56.389974Z",
     "iopub.status.idle": "2023-12-24T11:30:56.397482Z",
     "shell.execute_reply": "2023-12-24T11:30:56.396741Z"
    },
    "papermill": {
     "duration": 0.015345,
     "end_time": "2023-12-24T11:30:56.399044",
     "exception": false,
     "start_time": "2023-12-24T11:30:56.383699",
     "status": "completed"
    },
    "tags": []
   },
   "outputs": [
    {
     "name": "stdout",
     "output_type": "stream",
     "text": [
      "   0   1  Toplam\n",
      "0  1   2       3\n",
      "1  3   4       7\n",
      "2  5   6      11\n",
      "3  7   8      15\n",
      "4  9  10      19\n"
     ]
    }
   ],
   "source": [
    "#9. Önceki soruda oluşturulan matrisi bir dataframe!e dönüştürün ve bu dataframe’e \n",
    "# ilk 2 sutun toplamlarından oluşan yeni bir “toplam” adlı sutun ekleyin. \n",
    "import numpy as np\n",
    "import pandas as pd\n",
    "m = np.arange(1,11).reshape(5,2)\n",
    "df=pd.DataFrame(data=m,index=range(5))\n",
    "\n",
    "df['Toplam'] = df[0] + df[1]\n",
    "print(df)\n"
   ]
  },
  {
   "cell_type": "code",
   "execution_count": 10,
   "id": "a5f989a6",
   "metadata": {
    "execution": {
     "iopub.execute_input": "2023-12-24T11:30:56.411430Z",
     "iopub.status.busy": "2023-12-24T11:30:56.411174Z",
     "iopub.status.idle": "2023-12-24T11:30:56.416032Z",
     "shell.execute_reply": "2023-12-24T11:30:56.415174Z"
    },
    "papermill": {
     "duration": 0.013104,
     "end_time": "2023-12-24T11:30:56.417782",
     "exception": false,
     "start_time": "2023-12-24T11:30:56.404678",
     "status": "completed"
    },
    "tags": []
   },
   "outputs": [
    {
     "name": "stdout",
     "output_type": "stream",
     "text": [
      "[[[1 2 3 4]]\n",
      "\n",
      " [[5 6 7 8]]]\n"
     ]
    }
   ],
   "source": [
    "#10. İki adet a = [1,2,3,4] ve b = [5,6,7,8] numpy dizisi oluşturun ve bu dizileri \n",
    "# içeren yeni bir 2 boyutlu c numpy matrisi oluşturun.\n",
    "import numpy as np\n",
    "m = np.arange(1,5).reshape(1,4)\n",
    "n=np.arange(5,9).reshape(1,4)\n",
    "c = np.array([m, n])\n",
    "\n",
    "print(c)\n"
   ]
  },
  {
   "cell_type": "code",
   "execution_count": 11,
   "id": "f126e355",
   "metadata": {
    "execution": {
     "iopub.execute_input": "2023-12-24T11:30:56.430271Z",
     "iopub.status.busy": "2023-12-24T11:30:56.430043Z",
     "iopub.status.idle": "2023-12-24T11:30:56.435353Z",
     "shell.execute_reply": "2023-12-24T11:30:56.434516Z"
    },
    "papermill": {
     "duration": 0.013569,
     "end_time": "2023-12-24T11:30:56.437028",
     "exception": false,
     "start_time": "2023-12-24T11:30:56.423459",
     "status": "completed"
    },
    "tags": []
   },
   "outputs": [
    {
     "name": "stdout",
     "output_type": "stream",
     "text": [
      "Oluşturulan Numpy Dizisi: [14 12 16 17 20 10 13 18 11 18]\n",
      "Dizinin Ortalaması: 14.9\n",
      "Ortalamadan Büyük Sayılar: [16, 17, 20, 18, 18]\n"
     ]
    }
   ],
   "source": [
    "#11. 10 ile 20 arasında 10 adet rasgele tam sayıdan oluşan bir numpy dizisi oluşturun \n",
    "# ve bu dizinin ortalamasından büyük olan sayılardan oluşan listeyi yazdırınız. \n",
    "\n",
    "import numpy as np\n",
    "\n",
    "numpy_dizi = np.random.randint(10, 21, 10)\n",
    "\n",
    "ortalama = np.mean(numpy_dizi)\n",
    "buyuk_sayilar = [sayi for sayi in numpy_dizi if sayi > ortalama]\n",
    "\n",
    "print(\"Oluşturulan Numpy Dizisi:\", numpy_dizi)\n",
    "print(\"Dizinin Ortalaması:\", ortalama)\n",
    "print(\"Ortalamadan Büyük Sayılar:\", buyuk_sayilar)\n",
    "\n",
    "\n"
   ]
  },
  {
   "cell_type": "code",
   "execution_count": 12,
   "id": "ab3c1449",
   "metadata": {
    "execution": {
     "iopub.execute_input": "2023-12-24T11:30:56.449729Z",
     "iopub.status.busy": "2023-12-24T11:30:56.449498Z",
     "iopub.status.idle": "2023-12-24T11:30:57.174177Z",
     "shell.execute_reply": "2023-12-24T11:30:57.173033Z"
    },
    "papermill": {
     "duration": 0.733653,
     "end_time": "2023-12-24T11:30:57.176455",
     "exception": false,
     "start_time": "2023-12-24T11:30:56.442802",
     "status": "completed"
    },
    "tags": []
   },
   "outputs": [
    {
     "name": "stdout",
     "output_type": "stream",
     "text": [
      "[ 27   7  33 -17 -29 -39 -21 -40  26  38]\n",
      "[ 0.96866519  0.28890014  1.1725947  -0.52681791 -0.93467694 -1.27455946\n",
      " -0.66277092 -1.30854771  0.93467694  1.34253597]\n"
     ]
    }
   ],
   "source": [
    "#12. -50 ile 50 arası rasgele sayılardan oluşan 10 elemanlık bir numpy dizisi oluşturun. \n",
    "# Bu elemanların Z-score normalleştirilmiş değerlerinden oluşan b dizisi oluşturunuz\n",
    "import numpy as np\n",
    "from scipy.stats import zscore\n",
    "\n",
    "array = np.random.randint(-50,51, 10)\n",
    "b = zscore(array)\n",
    "print(array)\n",
    "print(b)\n"
   ]
  },
  {
   "cell_type": "code",
   "execution_count": 13,
   "id": "6e9dce93",
   "metadata": {
    "execution": {
     "iopub.execute_input": "2023-12-24T11:30:57.189906Z",
     "iopub.status.busy": "2023-12-24T11:30:57.189654Z",
     "iopub.status.idle": "2023-12-24T11:30:57.208236Z",
     "shell.execute_reply": "2023-12-24T11:30:57.207348Z"
    },
    "papermill": {
     "duration": 0.027248,
     "end_time": "2023-12-24T11:30:57.209858",
     "exception": false,
     "start_time": "2023-12-24T11:30:57.182610",
     "status": "completed"
    },
    "tags": []
   },
   "outputs": [
    {
     "name": "stdout",
     "output_type": "stream",
     "text": [
      "gruplar\n",
      "A    16.5\n",
      "B    27.0\n",
      "C    53.5\n",
      "Name: veri, dtype: float64\n"
     ]
    }
   ],
   "source": [
    "#13. Aşağıdaki şekilde bir dataframe oluşturulmuştur. Bu dataframe’in gruplara göre \n",
    "# veri ortalamalarını yansıtan tabloyu yazdıran komutu yazınız.\n",
    "import pandas as pd\n",
    "df = pd.DataFrame({'gruplar': ['A', 'B', 'C', 'A', 'B', 'C'],\n",
    "                   'deger':[1,2,3,4,5,6],\n",
    "                   'veri': [10,11,52,23,43,55]}, columns=['gruplar', 'veri','deger'])\n",
    "\n",
    "\n",
    "mean = df.groupby('gruplar')['veri'].mean()\n",
    "print(mean)\n",
    "\n"
   ]
  },
  {
   "cell_type": "code",
   "execution_count": 14,
   "id": "e42e890e",
   "metadata": {
    "execution": {
     "iopub.execute_input": "2023-12-24T11:30:57.223305Z",
     "iopub.status.busy": "2023-12-24T11:30:57.222561Z",
     "iopub.status.idle": "2023-12-24T11:30:57.225850Z",
     "shell.execute_reply": "2023-12-24T11:30:57.225307Z"
    },
    "papermill": {
     "duration": 0.011212,
     "end_time": "2023-12-24T11:30:57.227276",
     "exception": false,
     "start_time": "2023-12-24T11:30:57.216064",
     "status": "completed"
    },
    "tags": []
   },
   "outputs": [],
   "source": [
    "#14. “;” karakterleri ile ayrılmış veriler içeren dış kaynaklı “veri.csv” dosyasını \n",
    "# bir dataframe’e okumak için komutu yazınız\n",
    "\n",
    "#import pandas as pd\n",
    "#df = pd.read_csv('veri.csv', sep=';')\n",
    "\n"
   ]
  },
  {
   "cell_type": "code",
   "execution_count": 15,
   "id": "7627cbfc",
   "metadata": {
    "execution": {
     "iopub.execute_input": "2023-12-24T11:30:57.240875Z",
     "iopub.status.busy": "2023-12-24T11:30:57.240117Z",
     "iopub.status.idle": "2023-12-24T11:30:57.245076Z",
     "shell.execute_reply": "2023-12-24T11:30:57.244285Z"
    },
    "papermill": {
     "duration": 0.013575,
     "end_time": "2023-12-24T11:30:57.246587",
     "exception": false,
     "start_time": "2023-12-24T11:30:57.233012",
     "status": "completed"
    },
    "tags": []
   },
   "outputs": [
    {
     "name": "stdout",
     "output_type": "stream",
     "text": [
      "ALİ\n"
     ]
    }
   ],
   "source": [
    "#15. Parametre olarak aldığı bir kelimeyi tümüyle büyük karakterlere dönüştürerek \n",
    "# geri döndüren \"funk\" adlı bir fonksiyonun tanımını yazınız. \n",
    "\n",
    "def funk (word):\n",
    "    turkce_ceviri_tablosu = str.maketrans(\"abcçdefgğhıijklmnoöprsştuüvyz\", \"ABCÇDEFGĞHIİJKLMNOÖPRSŞTUÜVYZ\")\n",
    "    return word.translate(turkce_ceviri_tablosu).upper()\n",
    "\n",
    "a=funk(\"ali\")\n",
    "print(a)\n",
    "\n",
    "\n",
    "\n"
   ]
  },
  {
   "cell_type": "code",
   "execution_count": 16,
   "id": "1d77592b",
   "metadata": {
    "execution": {
     "iopub.execute_input": "2023-12-24T11:30:57.259230Z",
     "iopub.status.busy": "2023-12-24T11:30:57.258944Z",
     "iopub.status.idle": "2023-12-24T11:30:57.285464Z",
     "shell.execute_reply": "2023-12-24T11:30:57.284592Z"
    },
    "papermill": {
     "duration": 0.034671,
     "end_time": "2023-12-24T11:30:57.287072",
     "exception": false,
     "start_time": "2023-12-24T11:30:57.252401",
     "status": "completed"
    },
    "tags": []
   },
   "outputs": [
    {
     "name": "stdout",
     "output_type": "stream",
     "text": [
      "<bound method DataFrame.info of       mpg  cylinders  displacement  horsepower  weight  acceleration  \\\n",
      "0    18.0          8         307.0       130.0    3504          12.0   \n",
      "1    15.0          8         350.0       165.0    3693          11.5   \n",
      "2    18.0          8         318.0       150.0    3436          11.0   \n",
      "3    16.0          8         304.0       150.0    3433          12.0   \n",
      "4    17.0          8         302.0       140.0    3449          10.5   \n",
      "..    ...        ...           ...         ...     ...           ...   \n",
      "393  27.0          4         140.0        86.0    2790          15.6   \n",
      "394  44.0          4          97.0        52.0    2130          24.6   \n",
      "395  32.0          4         135.0        84.0    2295          11.6   \n",
      "396  28.0          4         120.0        79.0    2625          18.6   \n",
      "397  31.0          4         119.0        82.0    2720          19.4   \n",
      "\n",
      "     model_year  origin                       name  \n",
      "0            70     usa  chevrolet chevelle malibu  \n",
      "1            70     usa          buick skylark 320  \n",
      "2            70     usa         plymouth satellite  \n",
      "3            70     usa              amc rebel sst  \n",
      "4            70     usa                ford torino  \n",
      "..          ...     ...                        ...  \n",
      "393          82     usa            ford mustang gl  \n",
      "394          82  europe                  vw pickup  \n",
      "395          82     usa              dodge rampage  \n",
      "396          82     usa                ford ranger  \n",
      "397          82     usa                 chevy s-10  \n",
      "\n",
      "[398 rows x 9 columns]>\n",
      "    mpg  cylinders  displacement  horsepower  weight  acceleration  \\\n",
      "0  18.0          8         307.0       130.0    3504          12.0   \n",
      "1  15.0          8         350.0       165.0    3693          11.5   \n",
      "2  18.0          8         318.0       150.0    3436          11.0   \n",
      "3  16.0          8         304.0       150.0    3433          12.0   \n",
      "4  17.0          8         302.0       140.0    3449          10.5   \n",
      "5  15.0          8         429.0       198.0    4341          10.0   \n",
      "6  14.0          8         454.0       220.0    4354           9.0   \n",
      "7  14.0          8         440.0       215.0    4312           8.5   \n",
      "8  14.0          8         455.0       225.0    4425          10.0   \n",
      "9  15.0          8         390.0       190.0    3850           8.5   \n",
      "\n",
      "   model_year origin                       name  \n",
      "0          70    usa  chevrolet chevelle malibu  \n",
      "1          70    usa          buick skylark 320  \n",
      "2          70    usa         plymouth satellite  \n",
      "3          70    usa              amc rebel sst  \n",
      "4          70    usa                ford torino  \n",
      "5          70    usa           ford galaxie 500  \n",
      "6          70    usa           chevrolet impala  \n",
      "7          70    usa          plymouth fury iii  \n",
      "8          70    usa           pontiac catalina  \n",
      "9          70    usa         amc ambassador dpl  \n"
     ]
    }
   ],
   "source": [
    "#16. Python’da “seaborn” kütüphanesinden “mpg.csv” veri setini indiriniz, \n",
    "# veri seti bilgilerini yazdırınız (info),\n",
    "# veri setinin ilk 10 satrını ekrana yazdırınız\n",
    "\n",
    "import pandas as pd\n",
    "\n",
    "df = pd.read_csv('/kaggle/input/mpglastdata/mpg_veri.csv')\n",
    "\n",
    "print(df.info)\n",
    "print(df.head(10))\n",
    "\n",
    "\n"
   ]
  },
  {
   "cell_type": "code",
   "execution_count": 17,
   "id": "02ce4f5a",
   "metadata": {
    "execution": {
     "iopub.execute_input": "2023-12-24T11:30:57.299996Z",
     "iopub.status.busy": "2023-12-24T11:30:57.299612Z",
     "iopub.status.idle": "2023-12-24T11:30:57.320428Z",
     "shell.execute_reply": "2023-12-24T11:30:57.319665Z"
    },
    "papermill": {
     "duration": 0.0293,
     "end_time": "2023-12-24T11:30:57.322205",
     "exception": false,
     "start_time": "2023-12-24T11:30:57.292905",
     "status": "completed"
    },
    "tags": []
   },
   "outputs": [
    {
     "name": "stdout",
     "output_type": "stream",
     "text": [
      "                 mpg   cylinders  displacement   horsepower         weight  \\\n",
      "count     398.000000  398.000000    398.000000   392.000000     398.000000   \n",
      "mean       23.514573    5.454774    193.425879   104.469388    2970.424623   \n",
      "std         7.815984    1.701004    104.269838    38.491160     846.841774   \n",
      "min         9.000000    3.000000     68.000000    46.000000    1613.000000   \n",
      "25%        17.500000    4.000000    104.250000    75.000000    2223.750000   \n",
      "50%        23.000000    4.000000    148.500000    93.500000    2803.500000   \n",
      "75%        29.000000    8.000000    262.000000   126.000000    3608.000000   \n",
      "max        46.600000    8.000000    455.000000   230.000000    5140.000000   \n",
      "variance   61.089611    2.893415  10872.199152  1481.569393  717140.990526   \n",
      "\n",
      "          acceleration  model_year  \n",
      "count       398.000000  398.000000  \n",
      "mean         15.568090   76.010050  \n",
      "std           2.757689    3.697627  \n",
      "min           8.000000   70.000000  \n",
      "25%          13.825000   73.000000  \n",
      "50%          15.500000   76.000000  \n",
      "75%          17.175000   79.000000  \n",
      "max          24.800000   82.000000  \n",
      "variance      7.604848   13.672443  \n"
     ]
    }
   ],
   "source": [
    "#17. veri setinin uygun atributlraına göre ortalama, varyans, min, max, vs. \n",
    "# değerleri yazdırınız,\n",
    "import pandas as pd\n",
    "\n",
    "a = df.describe()\n",
    "a.loc['variance'] = a.loc['std'] ** 2\n",
    "#standart sapmanın karesi varyanstır ve onu describea ekledim\n",
    "\n",
    "print(a)\n",
    "\n",
    "\n"
   ]
  },
  {
   "cell_type": "code",
   "execution_count": 18,
   "id": "da03a4de",
   "metadata": {
    "execution": {
     "iopub.execute_input": "2023-12-24T11:30:57.336329Z",
     "iopub.status.busy": "2023-12-24T11:30:57.335776Z",
     "iopub.status.idle": "2023-12-24T11:30:57.887226Z",
     "shell.execute_reply": "2023-12-24T11:30:57.886440Z"
    },
    "papermill": {
     "duration": 0.559964,
     "end_time": "2023-12-24T11:30:57.888748",
     "exception": false,
     "start_time": "2023-12-24T11:30:57.328784",
     "status": "completed"
    },
    "tags": []
   },
   "outputs": [
    {
     "data": {
      "image/png": "[encoded data removed]",
      "text/plain": [
       "<Figure size 640x480 with 1 Axes>"
      ]
     },
     "metadata": {},
     "output_type": "display_data"
    }
   ],
   "source": [
    "#18. “horsepower” ve “weight” atributları için, “origin” kırılımına (hue) \n",
    "# göre “scatter plot” grafiğini oluşturunuz\n",
    "import matplotlib.pyplot as plt\n",
    "import seaborn as sns\n",
    "\n",
    "sns.scatterplot(x='horsepower', y='weight', hue='origin', data=df)\n",
    "plt.show()\n",
    "\n"
   ]
  },
  {
   "cell_type": "code",
   "execution_count": 19,
   "id": "20fc68fb",
   "metadata": {
    "execution": {
     "iopub.execute_input": "2023-12-24T11:30:57.904067Z",
     "iopub.status.busy": "2023-12-24T11:30:57.903627Z",
     "iopub.status.idle": "2023-12-24T11:30:57.910482Z",
     "shell.execute_reply": "2023-12-24T11:30:57.909426Z"
    },
    "papermill": {
     "duration": 0.016189,
     "end_time": "2023-12-24T11:30:57.912032",
     "exception": false,
     "start_time": "2023-12-24T11:30:57.895843",
     "status": "completed"
    },
    "tags": []
   },
   "outputs": [
    {
     "name": "stdout",
     "output_type": "stream",
     "text": [
      "Kendall Korelasyon Katsayısı: 0.30109590846759365\n"
     ]
    }
   ],
   "source": [
    "#19. “mpg” ve “acceleration” değişkenleri arasında Kendall \n",
    "# korelasyon katsayısını hesaplamalı ve yazdırmalı.\n",
    "from scipy.stats import kendalltau\n",
    "\n",
    "kendall_corr, p_value = kendalltau(df['mpg'], df['acceleration'])\n",
    "print(f\"Kendall Korelasyon Katsayısı: {kendall_corr}\")\n"
   ]
  },
  {
   "cell_type": "code",
   "execution_count": 20,
   "id": "cdc5b6f3",
   "metadata": {
    "execution": {
     "iopub.execute_input": "2023-12-24T11:30:57.927103Z",
     "iopub.status.busy": "2023-12-24T11:30:57.926601Z",
     "iopub.status.idle": "2023-12-24T11:30:58.211976Z",
     "shell.execute_reply": "2023-12-24T11:30:58.211108Z"
    },
    "papermill": {
     "duration": 0.295086,
     "end_time": "2023-12-24T11:30:58.213845",
     "exception": false,
     "start_time": "2023-12-24T11:30:57.918759",
     "status": "completed"
    },
    "tags": []
   },
   "outputs": [
    {
     "name": "stdout",
     "output_type": "stream",
     "text": [
      "Intercept (Kesişim): 45.67829287695591\n",
      "Katsayılar:\n",
      "horsepower: -0.04749561533211888\n",
      "acceleration: -0.002065657852236782\n",
      "weight: -0.005789402592258984\n"
     ]
    }
   ],
   "source": [
    "#20. “horsepower”, “acceleration” ve “weight” değişkenlerine göre \n",
    "# “mpg” değerinin tahmini için \n",
    "# LinearRegression() modeli oluşturunuz\n",
    "# Modelin intercept ve katsayılarını yazdırınız\n",
    "# NOT: kayıp veriler olabilir. Gerekirse kayıp verileri siliniz.\n",
    "from sklearn.linear_model import LinearRegression\n",
    "\n",
    "\n",
    "df = df.dropna(subset=['horsepower', 'acceleration', 'weight', 'mpg'])\n",
    "\n",
    "X = df[['horsepower', 'acceleration', 'weight']]\n",
    "y = df['mpg']\n",
    "model = LinearRegression()\n",
    "\n",
    "#X_train,X_test,y_train,y_test=train_test_split(X,y,test_size=0.2,random_state=42)\n",
    "\n",
    "model.fit(X, y)\n",
    "print(f\"Intercept (Kesişim): {model.intercept_}\")\n",
    "print(\"Katsayılar:\")\n",
    "for feature, coefficient in zip(X.columns, model.coef_):\n",
    "    print(f\"{feature}: {coefficient}\")\n",
    "\n",
    "#implace true yapmadım\n",
    "\n",
    "\n",
    "\n"
   ]
  },
  {
   "cell_type": "code",
   "execution_count": 21,
   "id": "667a7b1b",
   "metadata": {
    "execution": {
     "iopub.execute_input": "2023-12-24T11:30:58.230044Z",
     "iopub.status.busy": "2023-12-24T11:30:58.229776Z",
     "iopub.status.idle": "2023-12-24T11:30:58.236299Z",
     "shell.execute_reply": "2023-12-24T11:30:58.235441Z"
    },
    "papermill": {
     "duration": 0.016618,
     "end_time": "2023-12-24T11:30:58.238272",
     "exception": false,
     "start_time": "2023-12-24T11:30:58.221654",
     "status": "completed"
    },
    "tags": []
   },
   "outputs": [
    {
     "name": "stdout",
     "output_type": "stream",
     "text": [
      "R-squared değeri: 0.7063754859981903\n"
     ]
    }
   ],
   "source": [
    "#21. Oluşturulan modelin R-squared değerini yazdırınız\n",
    "from sklearn.metrics import r2_score\n",
    "\n",
    "r_squared = r2_score(y, model.predict(X))\n",
    "\n",
    "# R-squared değerini yazdırın\n",
    "print(f\"R-squared değeri: {r_squared}\")\n",
    "\n",
    "\n",
    "\n",
    "\n"
   ]
  },
  {
   "cell_type": "code",
   "execution_count": 22,
   "id": "47aca769",
   "metadata": {
    "execution": {
     "iopub.execute_input": "2023-12-24T11:30:58.253469Z",
     "iopub.status.busy": "2023-12-24T11:30:58.253189Z",
     "iopub.status.idle": "2023-12-24T11:30:58.259732Z",
     "shell.execute_reply": "2023-12-24T11:30:58.259038Z"
    },
    "papermill": {
     "duration": 0.016024,
     "end_time": "2023-12-24T11:30:58.261436",
     "exception": false,
     "start_time": "2023-12-24T11:30:58.245412",
     "status": "completed"
    },
    "tags": []
   },
   "outputs": [
    {
     "name": "stdout",
     "output_type": "stream",
     "text": [
      "Tahmin edilen MPG değeri: 19.21\n"
     ]
    },
    {
     "name": "stderr",
     "output_type": "stream",
     "text": [
      "/opt/conda/lib/python3.10/site-packages/sklearn/base.py:439: UserWarning: X does not have valid feature names, but LinearRegression was fitted with feature names\n",
      "  warnings.warn(\n"
     ]
    }
   ],
   "source": [
    "#22. horsepower = 130, acceleration=13, weight=3500 olan bir \n",
    "# otomobilin “mpg” değerini tahmin ediniz.\n",
    "from sklearn.linear_model import LinearRegression\n",
    "\n",
    "exm = model.predict([[130, 13, 3500]])\n",
    "\n",
    "# Tahmin edilen \"mpg\" değerini yazdır\n",
    "print(f\"Tahmin edilen MPG değeri: {exm[0]:.2f}\")\n",
    "\n",
    "\n"
   ]
  },
  {
   "cell_type": "code",
   "execution_count": 23,
   "id": "6c22e6ea",
   "metadata": {
    "execution": {
     "iopub.execute_input": "2023-12-24T11:30:58.277531Z",
     "iopub.status.busy": "2023-12-24T11:30:58.276956Z",
     "iopub.status.idle": "2023-12-24T11:30:58.546264Z",
     "shell.execute_reply": "2023-12-24T11:30:58.545290Z"
    },
    "papermill": {
     "duration": 0.279897,
     "end_time": "2023-12-24T11:30:58.548643",
     "exception": false,
     "start_time": "2023-12-24T11:30:58.268746",
     "status": "completed"
    },
    "tags": []
   },
   "outputs": [],
   "source": [
    "#23. “mpg.csv” veri setini, “mpg”, “displacement”,”horsepower”,”weight” \n",
    "#ve “acceleration” değişkenlerine göre\n",
    "#“origin” değerinin tahmini için %20 test,%80 eğitim oranında ayrıştırınız. Eğitim setini kullanarak\n",
    "#RandomForest sınıflandırma modeli oluşturunuz\n",
    "import pandas as pd\n",
    "from sklearn.model_selection import train_test_split\n",
    "from sklearn.ensemble import RandomForestClassifier\n",
    "\n",
    "\n",
    "\n",
    "df.dropna(subset=['horsepower', 'acceleration', 'weight', 'mpg','displacement'])\n",
    "\n",
    "X = df[[\"mpg\", \"displacement\", \"horsepower\", \"weight\", \"acceleration\"]]\n",
    "y = df[\"origin\"]\n",
    "\n",
    "X_train, X_test, y_train, y_test = train_test_split(X, y, test_size=0.2, random_state=42)\n",
    "rf_model = RandomForestClassifier(n_estimators=100, random_state=42)\n",
    "rf_model.fit(X_train, y_train)\n",
    "y_pred = rf_model.predict(X_test)"
   ]
  },
  {
   "cell_type": "code",
   "execution_count": 24,
   "id": "92e47446",
   "metadata": {
    "execution": {
     "iopub.execute_input": "2023-12-24T11:30:58.565620Z",
     "iopub.status.busy": "2023-12-24T11:30:58.565293Z",
     "iopub.status.idle": "2023-12-24T11:30:58.571067Z",
     "shell.execute_reply": "2023-12-24T11:30:58.570142Z"
    },
    "papermill": {
     "duration": 0.016832,
     "end_time": "2023-12-24T11:30:58.573505",
     "exception": false,
     "start_time": "2023-12-24T11:30:58.556673",
     "status": "completed"
    },
    "tags": []
   },
   "outputs": [
    {
     "name": "stdout",
     "output_type": "stream",
     "text": [
      "Modelin Doğruluk Skoru: 0.80\n"
     ]
    }
   ],
   "source": [
    "#24. Oluşturulan modelin test seti üzerinde doğruluk (accuracy) skorunu hesaplayınız,\n",
    "from sklearn.metrics import accuracy_score\n",
    "from sklearn.ensemble import RandomForestClassifier\n",
    "\n",
    "\n",
    "accuracy = accuracy_score(y_test, y_pred)\n",
    "\n",
    "# Modelin doğruluk skorunu yazdır\n",
    "print(f\"Modelin Doğruluk Skoru: {accuracy:.2f}\")\n",
    "\n",
    "\n",
    "\n",
    "\n"
   ]
  },
  {
   "cell_type": "code",
   "execution_count": 25,
   "id": "fa35b394",
   "metadata": {
    "execution": {
     "iopub.execute_input": "2023-12-24T11:30:58.589195Z",
     "iopub.status.busy": "2023-12-24T11:30:58.588932Z",
     "iopub.status.idle": "2023-12-24T11:30:58.599588Z",
     "shell.execute_reply": "2023-12-24T11:30:58.598641Z"
    },
    "papermill": {
     "duration": 0.020359,
     "end_time": "2023-12-24T11:30:58.601162",
     "exception": false,
     "start_time": "2023-12-24T11:30:58.580803",
     "status": "completed"
    },
    "tags": []
   },
   "outputs": [
    {
     "name": "stdout",
     "output_type": "stream",
     "text": [
      "mpg: 0.16510823507284783\n",
      "displacement: 0.3407463630116737\n",
      "horsepower: 0.16753911675494432\n",
      "weight: 0.2065433846316926\n",
      "acceleration: 0.1200629005288415\n"
     ]
    }
   ],
   "source": [
    "#25.Değişkenlerin önem derecelerini (Importance) yazdırınız.\n",
    "from sklearn.ensemble import RandomForestClassifier\n",
    "\n",
    "importance = rf_model.feature_importances_\n",
    "\n",
    "feature_importance = dict(zip(X.columns, importance))\n",
    "\n",
    "for feature, importance in feature_importance.items():\n",
    "    print(f\"{feature}: {importance}\")\n"
   ]
  }
 ],
 "metadata": {
  "kaggle": {
   "accelerator": "none",
   "dataSources": [
    {
     "datasetId": 4205328,
     "sourceId": 7256978,
     "sourceType": "datasetVersion"
    }
   ],
   "dockerImageVersionId": 30615,
   "isGpuEnabled": false,
   "isInternetEnabled": false,
   "language": "python",
   "sourceType": "notebook"
  },
  "kernelspec": {
   "display_name": "Python 3",
   "language": "python",
   "name": "python3"
  },
  "language_info": {
   "codemirror_mode": {
    "name": "ipython",
    "version": 3
   },
   "file_extension": ".py",
   "mimetype": "text/x-python",
   "name": "python",
   "nbconvert_exporter": "python",
   "pygments_lexer": "ipython3",
   "version": "3.10.12"
  },
  "papermill": {
   "default_parameters": {},
   "duration": 5.936016,
   "end_time": "2023-12-24T11:30:59.025729",
   "environment_variables": {},
   "exception": null,
   "input_path": "__notebook__.ipynb",
   "output_path": "__notebook__.ipynb",
   "parameters": {},
   "start_time": "2023-12-24T11:30:53.089713",
   "version": "2.4.0"
  }
 },
 "nbformat": 4,
 "nbformat_minor": 5
}
