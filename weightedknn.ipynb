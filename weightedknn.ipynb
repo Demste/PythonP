{
 "cells": [
  {
   "cell_type": "code",
   "execution_count": 1,
   "id": "579485cd",
   "metadata": {
    "_cell_guid": "b1076dfc-b9ad-4769-8c92-a6c4dae69d19",
    "_uuid": "8f2839f25d086af736a60e9eeb907d3b93b6e0e5",
    "execution": {
     "iopub.execute_input": "2023-12-26T15:17:24.048076Z",
     "iopub.status.busy": "2023-12-26T15:17:24.047682Z",
     "iopub.status.idle": "2023-12-26T15:17:25.933075Z",
     "shell.execute_reply": "2023-12-26T15:17:25.931715Z"
    },
    "papermill": {
     "duration": 1.896023,
     "end_time": "2023-12-26T15:17:25.936144",
     "exception": false,
     "start_time": "2023-12-26T15:17:24.040121",
     "status": "completed"
    },
    "tags": []
   },
   "outputs": [],
   "source": [
    "import pandas as pd\n",
    "import numpy as np\n",
    "import math\n",
    "from scipy.stats import trim_mean\n",
    "\n",
    "\n",
    "df = pd.read_csv(\"/kaggle/input/mpg-data/mpg_veri.csv\")\n",
    "k=7\n",
    "_horsepower=130\n",
    "_weight=3500\n",
    "_acceleration=13\n",
    "pointt = [_horsepower, _weight, _acceleration]"
   ]
  },
  {
   "cell_type": "code",
   "execution_count": 2,
   "id": "f87d0a1f",
   "metadata": {
    "execution": {
     "iopub.execute_input": "2023-12-26T15:17:25.951047Z",
     "iopub.status.busy": "2023-12-26T15:17:25.950630Z",
     "iopub.status.idle": "2023-12-26T15:17:25.990885Z",
     "shell.execute_reply": "2023-12-26T15:17:25.988629Z"
    },
    "papermill": {
     "duration": 0.051301,
     "end_time": "2023-12-26T15:17:25.994025",
     "exception": false,
     "start_time": "2023-12-26T15:17:25.942724",
     "status": "completed"
    },
    "tags": []
   },
   "outputs": [
    {
     "name": "stdout",
     "output_type": "stream",
     "text": [
      "      mpg  cylinders  displacement  horsepower  weight  acceleration  \\\n",
      "32   25.0          4          98.0         NaN    2046          19.0   \n",
      "126  21.0          6         200.0         NaN    2875          17.0   \n",
      "330  40.9          4          85.0         NaN    1835          17.3   \n",
      "336  23.6          4         140.0         NaN    2905          14.3   \n",
      "354  34.5          4         100.0         NaN    2320          15.8   \n",
      "374  23.0          4         151.0         NaN    3035          20.5   \n",
      "\n",
      "     model_year  origin                  name  \n",
      "32           71     usa            ford pinto  \n",
      "126          74     usa         ford maverick  \n",
      "330          80  europe  renault lecar deluxe  \n",
      "336          80     usa    ford mustang cobra  \n",
      "354          81  europe           renault 18i  \n",
      "374          82     usa        amc concord dl  \n"
     ]
    }
   ],
   "source": [
    "def Find_missing_rows(data, desired_columns):\n",
    "    \n",
    "    missing_values = data[data[desired_columns].isna().any(axis=1)]\n",
    "    return missing_values\n",
    "\n",
    "\n",
    "#işlem yapılcak boş değer var mı diye sütunları yazdık\n",
    "search_columns = [\"horsepower\", \"weight\",\"acceleration\",\"mpg\"]\n",
    "\n",
    "#eksik değer içern satıları yazdık\n",
    "print( Find_missing_rows(df, search_columns))"
   ]
  },
  {
   "cell_type": "code",
   "execution_count": 3,
   "id": "0c40c483",
   "metadata": {
    "execution": {
     "iopub.execute_input": "2023-12-26T15:17:26.009491Z",
     "iopub.status.busy": "2023-12-26T15:17:26.009093Z",
     "iopub.status.idle": "2023-12-26T15:17:26.036779Z",
     "shell.execute_reply": "2023-12-26T15:17:26.035020Z"
    },
    "papermill": {
     "duration": 0.039686,
     "end_time": "2023-12-26T15:17:26.039835",
     "exception": false,
     "start_time": "2023-12-26T15:17:26.000149",
     "status": "completed"
    },
    "tags": []
   },
   "outputs": [
    {
     "name": "stdout",
     "output_type": "stream",
     "text": [
      "     mpg  cylinders  displacement  horsepower  weight  acceleration  \\\n",
      "30  28.0          4         140.0        90.0    2264          15.5   \n",
      "31  25.0          4         113.0        95.0    2228          14.0   \n",
      "32  25.0          4          98.0         NaN    2046          19.0   \n",
      "33  19.0          6         232.0       100.0    2634          13.0   \n",
      "\n",
      "    model_year origin                 name  \n",
      "30          71    usa  chevrolet vega 2300  \n",
      "31          71  japan        toyota corona  \n",
      "32          71    usa           ford pinto  \n",
      "33          71    usa          amc gremlin  \n",
      "     mpg  cylinders  displacement  horsepower  weight  acceleration  \\\n",
      "30  28.0          4         140.0       90.00    2264          15.5   \n",
      "31  25.0          4         113.0       95.00    2228          14.0   \n",
      "32  25.0          4          98.0      101.01    2046          19.0   \n",
      "33  19.0          6         232.0      100.00    2634          13.0   \n",
      "\n",
      "    model_year origin                 name  \n",
      "30          71    usa  chevrolet vega 2300  \n",
      "31          71  japan        toyota corona  \n",
      "32          71    usa           ford pinto  \n",
      "33          71    usa          amc gremlin  \n"
     ]
    }
   ],
   "source": [
    "#boş değerleri silmek yerine trim mean ile doldurduk\n",
    "def fillna_with_trimmean(df, istenen_sutunlar, proportiontocut=0.1, decimal_places=2):\n",
    "\n",
    "    df_copy=df.copy()\n",
    "    \n",
    "    for column in istenen_sutunlar:\n",
    "        trimmean_result = round(trim_mean(df_copy[column], proportiontocut=proportiontocut), decimal_places)\n",
    "        \n",
    "        # NaN veya 0 olan değerleri trimmean değeri ile doldur\n",
    "        df_copy[column] = df_copy[column].replace({0: trimmean_result}).fillna(trimmean_result)\n",
    "    \n",
    "    return df_copy\n",
    "\n",
    "df_filled = fillna_with_trimmean(df, search_columns)\n",
    "print(df.iloc[30:34, :])\n",
    "print(df_filled.iloc[30:34, :])"
   ]
  },
  {
   "cell_type": "code",
   "execution_count": 4,
   "id": "985e16ac",
   "metadata": {
    "execution": {
     "iopub.execute_input": "2023-12-26T15:17:26.053859Z",
     "iopub.status.busy": "2023-12-26T15:17:26.053426Z",
     "iopub.status.idle": "2023-12-26T15:17:26.060319Z",
     "shell.execute_reply": "2023-12-26T15:17:26.058834Z"
    },
    "papermill": {
     "duration": 0.016986,
     "end_time": "2023-12-26T15:17:26.063158",
     "exception": false,
     "start_time": "2023-12-26T15:17:26.046172",
     "status": "completed"
    },
    "tags": []
   },
   "outputs": [],
   "source": [
    "def Euclidean_distance(point1, point2):\n",
    "    #return math.sqrt(sum((x - y) ** 2 for x, y in zip(point1, point2)))\n",
    "    return math.sqrt(sum((point1[i] - point2[i]) ** 2 for i in range(len(point1))))\n"
   ]
  },
  {
   "cell_type": "code",
   "execution_count": 5,
   "id": "c6fe766f",
   "metadata": {
    "execution": {
     "iopub.execute_input": "2023-12-26T15:17:26.076693Z",
     "iopub.status.busy": "2023-12-26T15:17:26.076266Z",
     "iopub.status.idle": "2023-12-26T15:17:26.083838Z",
     "shell.execute_reply": "2023-12-26T15:17:26.082428Z"
    },
    "papermill": {
     "duration": 0.017774,
     "end_time": "2023-12-26T15:17:26.086747",
     "exception": false,
     "start_time": "2023-12-26T15:17:26.068973",
     "status": "completed"
    },
    "tags": []
   },
   "outputs": [],
   "source": [
    "X_train = df_filled[[\"horsepower\", \"weight\", \"acceleration\"]]  # X_train\n",
    "y = df_filled['mpg']  # Hedef değişken (etiketler)\n"
   ]
  },
  {
   "cell_type": "code",
   "execution_count": 6,
   "id": "769641d3",
   "metadata": {
    "execution": {
     "iopub.execute_input": "2023-12-26T15:17:26.100910Z",
     "iopub.status.busy": "2023-12-26T15:17:26.100437Z",
     "iopub.status.idle": "2023-12-26T15:17:28.505312Z",
     "shell.execute_reply": "2023-12-26T15:17:28.504160Z"
    },
    "papermill": {
     "duration": 2.415801,
     "end_time": "2023-12-26T15:17:28.508719",
     "exception": false,
     "start_time": "2023-12-26T15:17:26.092918",
     "status": "completed"
    },
    "tags": []
   },
   "outputs": [
    {
     "data": {
      "image/png": "[encoded data removed]",
      "text/plain": [
       "<Figure size 640x480 with 1 Axes>"
      ]
     },
     "metadata": {},
     "output_type": "display_data"
    },
    {
     "name": "stdout",
     "output_type": "stream",
     "text": [
      "Best K value: 35\n"
     ]
    }
   ],
   "source": [
    "import matplotlib.pyplot as plt\n",
    "from sklearn.model_selection import cross_val_score\n",
    "from sklearn.neighbors import KNeighborsRegressor\n",
    "\n",
    "\n",
    "# K değerlerini belirle\n",
    "k_values = list(range(1, 50))\n",
    "\n",
    "# Çapraz doğrulama ile hata hesapla\n",
    "cv_errors = []\n",
    "\n",
    "for k in k_values:\n",
    "    knn = KNeighborsRegressor(n_neighbors=k)\n",
    "    errors = -cross_val_score(knn, X_train, y, cv=5, scoring='neg_mean_squared_error')\n",
    "    cv_errors.append(errors.mean())\n",
    "\n",
    "# Elbow Method ile en iyi k değerini bul\n",
    "best_k = k_values[cv_errors.index(min(cv_errors))]\n",
    "\n",
    "# Grafik çizimi\n",
    "plt.plot(k_values, cv_errors, marker='o')\n",
    "plt.xlabel('K Value')\n",
    "plt.ylabel('(MSE)')\n",
    "plt.title('Elbow Method ')\n",
    "plt.axvline(x=best_k, color='r', linestyle='--', label=f'Best K: {best_k}')\n",
    "plt.legend()\n",
    "plt.show()\n",
    "\n",
    "print(f'Best K value: {best_k}')\n"
   ]
  },
  {
   "cell_type": "code",
   "execution_count": 7,
   "id": "d06ebc6a",
   "metadata": {
    "execution": {
     "iopub.execute_input": "2023-12-26T15:17:28.523664Z",
     "iopub.status.busy": "2023-12-26T15:17:28.523049Z",
     "iopub.status.idle": "2023-12-26T15:17:28.530485Z",
     "shell.execute_reply": "2023-12-26T15:17:28.529288Z"
    },
    "papermill": {
     "duration": 0.018054,
     "end_time": "2023-12-26T15:17:28.533145",
     "exception": false,
     "start_time": "2023-12-26T15:17:28.515091",
     "status": "completed"
    },
    "tags": []
   },
   "outputs": [],
   "source": [
    "def SortedDistancewIndex(point, X_train):\n",
    "    distances = []\n",
    "    for index, row in X_train.iterrows():\n",
    "        distance = Euclidean_distance(point, np.array(row))\n",
    "        distances.append((distance,index))\n",
    "\n",
    "    sorted_distances = sorted(distances, key=lambda x: x[0])\n",
    "    \n",
    "    return sorted_distances\n"
   ]
  },
  {
   "cell_type": "code",
   "execution_count": 8,
   "id": "02a21b86",
   "metadata": {
    "execution": {
     "iopub.execute_input": "2023-12-26T15:17:28.547935Z",
     "iopub.status.busy": "2023-12-26T15:17:28.547416Z",
     "iopub.status.idle": "2023-12-26T15:17:28.555721Z",
     "shell.execute_reply": "2023-12-26T15:17:28.554269Z"
    },
    "papermill": {
     "duration": 0.01915,
     "end_time": "2023-12-26T15:17:28.558768",
     "exception": false,
     "start_time": "2023-12-26T15:17:28.539618",
     "status": "completed"
    },
    "tags": []
   },
   "outputs": [],
   "source": [
    "\n",
    "def Weighted_knn_predict(point, X_train, y_train, k):\n",
    "\n",
    "    \n",
    "    sorted_distances_indices = SortedDistancewIndex(pointt,X_train)\n",
    "    # İlk k komşuyu seç\n",
    "    k_neighbors = sorted_distances_indices[:k]\n",
    "    \n",
    "    # Ağırlıklı tahmin yap\n",
    "    weighted_sum = 0\n",
    "    total_weight = 0\n",
    "    \n",
    "    for distance, index in k_neighbors:\n",
    "        weight = 1 / distance  # Mesafeye göre ağırlık\n",
    "        weighted_sum += weight * y_train.loc[index]\n",
    "        total_weight += weight\n",
    "    \n",
    "    if total_weight == 0:\n",
    "        return 0  # Bölme sıfıra bölme hatasını önlemek için kontrol\n",
    "    else:\n",
    "        return weighted_sum / total_weight\n"
   ]
  },
  {
   "cell_type": "code",
   "execution_count": 9,
   "id": "ccfdebb9",
   "metadata": {
    "execution": {
     "iopub.execute_input": "2023-12-26T15:17:28.574358Z",
     "iopub.status.busy": "2023-12-26T15:17:28.573942Z",
     "iopub.status.idle": "2023-12-26T15:17:28.610989Z",
     "shell.execute_reply": "2023-12-26T15:17:28.609618Z"
    },
    "papermill": {
     "duration": 0.048421,
     "end_time": "2023-12-26T15:17:28.613832",
     "exception": false,
     "start_time": "2023-12-26T15:17:28.565411",
     "status": "completed"
    },
    "tags": []
   },
   "outputs": [
    {
     "name": "stdout",
     "output_type": "stream",
     "text": [
      "Weighted KNN Predict with Trimmean and best K value: 18.28733723887729\n"
     ]
    }
   ],
   "source": [
    "predicted_value = Weighted_knn_predict(pointt, X_train, y, best_k)\n",
    "print(\"Weighted KNN Predict with Trimmean and best K value:\", predicted_value)"
   ]
  },
  {
   "cell_type": "code",
   "execution_count": 10,
   "id": "1cc09861",
   "metadata": {
    "execution": {
     "iopub.execute_input": "2023-12-26T15:17:28.629511Z",
     "iopub.status.busy": "2023-12-26T15:17:28.629096Z",
     "iopub.status.idle": "2023-12-26T15:17:28.667985Z",
     "shell.execute_reply": "2023-12-26T15:17:28.666633Z"
    },
    "papermill": {
     "duration": 0.050019,
     "end_time": "2023-12-26T15:17:28.670838",
     "exception": false,
     "start_time": "2023-12-26T15:17:28.620819",
     "status": "completed"
    },
    "tags": []
   },
   "outputs": [
    {
     "name": "stdout",
     "output_type": "stream",
     "text": [
      "Weighted KNN Predict with Dropped and best K value: 18.28733723887729\n"
     ]
    }
   ],
   "source": [
    "selected_columns = [\"horsepower\", \"weight\", \"acceleration\",\"mpg\"]\n",
    "\n",
    "df_dropped = df.dropna(subset=selected_columns)\n",
    "\n",
    "X_trainwht = df_dropped[[\"horsepower\", \"weight\", \"acceleration\"]]  # X_train\n",
    "ywht= df_dropped['mpg'] \n",
    "predicted_value = Weighted_knn_predict(pointt, X_trainwht, ywht, best_k)\n",
    "print(\"Weighted KNN Predict with Dropped and best K value:\", predicted_value)"
   ]
  },
  {
   "cell_type": "code",
   "execution_count": 11,
   "id": "bbe9fff8",
   "metadata": {
    "execution": {
     "iopub.execute_input": "2023-12-26T15:17:28.685629Z",
     "iopub.status.busy": "2023-12-26T15:17:28.685178Z",
     "iopub.status.idle": "2023-12-26T15:17:28.720214Z",
     "shell.execute_reply": "2023-12-26T15:17:28.719108Z"
    },
    "papermill": {
     "duration": 0.046084,
     "end_time": "2023-12-26T15:17:28.723387",
     "exception": false,
     "start_time": "2023-12-26T15:17:28.677303",
     "status": "completed"
    },
    "tags": []
   },
   "outputs": [
    {
     "name": "stdout",
     "output_type": "stream",
     "text": [
      "Weighted KNN Predict with Trimmean: 18.21703986750805\n"
     ]
    }
   ],
   "source": [
    "predicted_value = Weighted_knn_predict(pointt, X_train, y, k)\n",
    "print(\"Weighted KNN Predict with Trimmean:\", predicted_value)"
   ]
  },
  {
   "cell_type": "code",
   "execution_count": 12,
   "id": "c6b65cb0",
   "metadata": {
    "execution": {
     "iopub.execute_input": "2023-12-26T15:17:28.738105Z",
     "iopub.status.busy": "2023-12-26T15:17:28.737687Z",
     "iopub.status.idle": "2023-12-26T15:17:28.779273Z",
     "shell.execute_reply": "2023-12-26T15:17:28.777893Z"
    },
    "papermill": {
     "duration": 0.052171,
     "end_time": "2023-12-26T15:17:28.782034",
     "exception": false,
     "start_time": "2023-12-26T15:17:28.729863",
     "status": "completed"
    },
    "tags": []
   },
   "outputs": [
    {
     "name": "stdout",
     "output_type": "stream",
     "text": [
      "Weighted KNN Predict with Dropped: 18.21703986750805\n"
     ]
    }
   ],
   "source": [
    "selected_columns = [\"horsepower\", \"weight\", \"acceleration\",\"mpg\"]\n",
    "\n",
    "df_dropped = df.dropna(subset=selected_columns)\n",
    "\n",
    "X_trainwht = df_dropped[[\"horsepower\", \"weight\", \"acceleration\"]]  # X_train\n",
    "ywht= df_dropped['mpg'] \n",
    "predicted_value = Weighted_knn_predict(pointt, X_trainwht, ywht, k)\n",
    "print(\"Weighted KNN Predict with Dropped:\", predicted_value)"
   ]
  },
  {
   "cell_type": "code",
   "execution_count": 13,
   "id": "7f833d65",
   "metadata": {
    "execution": {
     "iopub.execute_input": "2023-12-26T15:17:28.797072Z",
     "iopub.status.busy": "2023-12-26T15:17:28.796671Z",
     "iopub.status.idle": "2023-12-26T15:17:28.802046Z",
     "shell.execute_reply": "2023-12-26T15:17:28.800806Z"
    },
    "papermill": {
     "duration": 0.016076,
     "end_time": "2023-12-26T15:17:28.804742",
     "exception": false,
     "start_time": "2023-12-26T15:17:28.788666",
     "status": "completed"
    },
    "tags": []
   },
   "outputs": [],
   "source": [
    "#Bu veri seti için kırpılmış ortalama kullanmak yerine verileri silmek az da olsa avantaj sağğlar gibi gözüküyor\n",
    "#Çünkü istenilen örneğin sonucunda neredeyse değişiklik yoktur belki de kırpılmış ortalamayı alırken 0.1 yerine 0.2 alsak ortalama değişebilir\n",
    "#Hatta en iyi k değerini hesaplamaya bile gerek olmayabilir aradaki fark 0.7lık bir sapma veriyor bize bu da büyük bir etki yaratcağını sanmıyorum"
   ]
  }
 ],
 "metadata": {
  "kaggle": {
   "accelerator": "none",
   "dataSources": [
    {
     "datasetId": 4220733,
     "sourceId": 7279579,
     "sourceType": "datasetVersion"
    }
   ],
   "dockerImageVersionId": 30626,
   "isGpuEnabled": false,
   "isInternetEnabled": false,
   "language": "python",
   "sourceType": "notebook"
  },
  "kernelspec": {
   "display_name": "Python 3",
   "language": "python",
   "name": "python3"
  },
  "language_info": {
   "codemirror_mode": {
    "name": "ipython",
    "version": 3
   },
   "file_extension": ".py",
   "mimetype": "text/x-python",
   "name": "python",
   "nbconvert_exporter": "python",
   "pygments_lexer": "ipython3",
   "version": "3.10.12"
  },
  "papermill": {
   "default_parameters": {},
   "duration": 9.114585,
   "end_time": "2023-12-26T15:17:29.434605",
   "environment_variables": {},
   "exception": null,
   "input_path": "__notebook__.ipynb",
   "output_path": "__notebook__.ipynb",
   "parameters": {},
   "start_time": "2023-12-26T15:17:20.320020",
   "version": "2.4.0"
  }
 },
 "nbformat": 4,
 "nbformat_minor": 5
}
